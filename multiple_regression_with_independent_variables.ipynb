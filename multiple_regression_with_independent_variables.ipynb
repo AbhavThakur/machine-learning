{
  "nbformat": 4,
  "nbformat_minor": 0,
  "metadata": {
    "colab": {
      "name": "multiple regression with independent variables.ipynb",
      "provenance": [],
      "mount_file_id": "1Rz13YTe-3Tj2s-wHWQq86CXzAZ79ESGl",
      "authorship_tag": "ABX9TyPlf9+xVyep7zFPVICZ2TmB",
      "include_colab_link": true
    },
    "kernelspec": {
      "name": "python3",
      "display_name": "Python 3"
    }
  },
  "cells": [
    {
      "cell_type": "markdown",
      "metadata": {
        "id": "view-in-github",
        "colab_type": "text"
      },
      "source": [
        "<a href=\"https://colab.research.google.com/github/AbhavThakur/machine-learning/blob/master/multiple_regression_with_independent_variables.ipynb\" target=\"_parent\"><img src=\"https://colab.research.google.com/assets/colab-badge.svg\" alt=\"Open In Colab\"/></a>"
      ]
    },
    {
      "cell_type": "code",
      "metadata": {
        "id": "iHDik6wdhCaz",
        "colab_type": "code",
        "colab": {}
      },
      "source": [
        "import pandas as pd\n",
        "import numpy as np\n",
        "import matplotlib as plt"
      ],
      "execution_count": 0,
      "outputs": []
    },
    {
      "cell_type": "code",
      "metadata": {
        "id": "VqSlbsTxh-DM",
        "colab_type": "code",
        "outputId": "729476cb-1b73-4f53-a935-1aa67618803f",
        "colab": {
          "base_uri": "https://localhost:8080/",
          "height": 195
        }
      },
      "source": [
        "dt=pd.read_csv('/content/drive/My Drive/Colab Notebooks/Part 2 - Regression/Section 5 - Multiple Linear Regression/50_Startups.csv')\n",
        "dt.head()"
      ],
      "execution_count": 0,
      "outputs": [
        {
          "output_type": "execute_result",
          "data": {
            "text/html": [
              "<div>\n",
              "<style scoped>\n",
              "    .dataframe tbody tr th:only-of-type {\n",
              "        vertical-align: middle;\n",
              "    }\n",
              "\n",
              "    .dataframe tbody tr th {\n",
              "        vertical-align: top;\n",
              "    }\n",
              "\n",
              "    .dataframe thead th {\n",
              "        text-align: right;\n",
              "    }\n",
              "</style>\n",
              "<table border=\"1\" class=\"dataframe\">\n",
              "  <thead>\n",
              "    <tr style=\"text-align: right;\">\n",
              "      <th></th>\n",
              "      <th>R&amp;D Spend</th>\n",
              "      <th>Administration</th>\n",
              "      <th>Marketing Spend</th>\n",
              "      <th>State</th>\n",
              "      <th>Profit</th>\n",
              "    </tr>\n",
              "  </thead>\n",
              "  <tbody>\n",
              "    <tr>\n",
              "      <th>0</th>\n",
              "      <td>165349.20</td>\n",
              "      <td>136897.80</td>\n",
              "      <td>471784.10</td>\n",
              "      <td>New York</td>\n",
              "      <td>192261.83</td>\n",
              "    </tr>\n",
              "    <tr>\n",
              "      <th>1</th>\n",
              "      <td>162597.70</td>\n",
              "      <td>151377.59</td>\n",
              "      <td>443898.53</td>\n",
              "      <td>California</td>\n",
              "      <td>191792.06</td>\n",
              "    </tr>\n",
              "    <tr>\n",
              "      <th>2</th>\n",
              "      <td>153441.51</td>\n",
              "      <td>101145.55</td>\n",
              "      <td>407934.54</td>\n",
              "      <td>Florida</td>\n",
              "      <td>191050.39</td>\n",
              "    </tr>\n",
              "    <tr>\n",
              "      <th>3</th>\n",
              "      <td>144372.41</td>\n",
              "      <td>118671.85</td>\n",
              "      <td>383199.62</td>\n",
              "      <td>New York</td>\n",
              "      <td>182901.99</td>\n",
              "    </tr>\n",
              "    <tr>\n",
              "      <th>4</th>\n",
              "      <td>142107.34</td>\n",
              "      <td>91391.77</td>\n",
              "      <td>366168.42</td>\n",
              "      <td>Florida</td>\n",
              "      <td>166187.94</td>\n",
              "    </tr>\n",
              "  </tbody>\n",
              "</table>\n",
              "</div>"
            ],
            "text/plain": [
              "   R&D Spend  Administration  Marketing Spend       State     Profit\n",
              "0  165349.20       136897.80        471784.10    New York  192261.83\n",
              "1  162597.70       151377.59        443898.53  California  191792.06\n",
              "2  153441.51       101145.55        407934.54     Florida  191050.39\n",
              "3  144372.41       118671.85        383199.62    New York  182901.99\n",
              "4  142107.34        91391.77        366168.42     Florida  166187.94"
            ]
          },
          "metadata": {
            "tags": []
          },
          "execution_count": 22
        }
      ]
    },
    {
      "cell_type": "code",
      "metadata": {
        "id": "5nKEC0yujAzm",
        "colab_type": "code",
        "colab": {}
      },
      "source": [
        "ohe=pd.get_dummies(dt['State'])\n",
        "result = pd.concat([dt, ohe], axis=1)\n",
        "#result['California']\n",
        "#dt.insert(2,\"Florida\",result['Florida'])\n",
        "result\n",
        "dt.head()\n",
        "X=dt.iloc[:,0:6]\n",
        "y=dt.iloc[:,7]\n"
      ],
      "execution_count": 0,
      "outputs": []
    },
    {
      "cell_type": "code",
      "metadata": {
        "id": "A0fmUVNl4EAE",
        "colab_type": "code",
        "outputId": "a57cb6a8-c190-4f30-8c64-02f80c277791",
        "colab": {
          "base_uri": "https://localhost:8080/",
          "height": 263
        }
      },
      "source": [
        "from sklearn.model_selection import train_test_split\n",
        "X_train,X_test,y_train,y_test=train_test_split(X,y,test_size=0.2,random_state=0)\n",
        "from sklearn.linear_model import LinearRegression\n",
        "rg=LinearRegression()\n",
        "rg.fit(X_train,y_train)\n",
        "y_pred=rg.predict(X_test)\n",
        "print(y_pred)\n",
        "print(y_test)\n",
        "\n",
        "\n"
      ],
      "execution_count": 0,
      "outputs": [
        {
          "output_type": "stream",
          "text": [
            "[103015.20159798 132582.27760815 132447.73845175  71976.09851258\n",
            " 178537.48221054 116161.24230164  67851.69209675  98791.73374689\n",
            " 113969.43533012 167921.06569549]\n",
            "28    103282.38\n",
            "11    144259.40\n",
            "10    146121.95\n",
            "41     77798.83\n",
            "2     191050.39\n",
            "27    105008.31\n",
            "38     81229.06\n",
            "31     97483.56\n",
            "22    110352.25\n",
            "4     166187.94\n",
            "Name: Profit, dtype: float64\n"
          ],
          "name": "stdout"
        }
      ]
    },
    {
      "cell_type": "code",
      "metadata": {
        "id": "kL4KZQeJ2XNd",
        "colab_type": "code",
        "outputId": "730a667c-31be-4649-ecde-ed092306be39",
        "colab": {
          "base_uri": "https://localhost:8080/",
          "height": 539
        }
      },
      "source": [
        "import statsmodels.api as smf;\n",
        "\n",
        "X = np.append(arr=np.ones((50,1),dtype=np.int), values = X,axis = 1)\n",
        "\n",
        "X_opt = X[:,[0,1,2,3,4,5]]\n",
        "\n",
        "rg_ols = smf.OLS(y,X_opt).fit()\n",
        "rg_ols.summary()"
      ],
      "execution_count": 0,
      "outputs": [
        {
          "output_type": "execute_result",
          "data": {
            "text/html": [
              "<table class=\"simpletable\">\n",
              "<caption>OLS Regression Results</caption>\n",
              "<tr>\n",
              "  <th>Dep. Variable:</th>         <td>Profit</td>      <th>  R-squared:         </th> <td>   0.947</td>\n",
              "</tr>\n",
              "<tr>\n",
              "  <th>Model:</th>                   <td>OLS</td>       <th>  Adj. R-squared:    </th> <td>   0.943</td>\n",
              "</tr>\n",
              "<tr>\n",
              "  <th>Method:</th>             <td>Least Squares</td>  <th>  F-statistic:       </th> <td>   272.4</td>\n",
              "</tr>\n",
              "<tr>\n",
              "  <th>Date:</th>             <td>Sun, 16 Feb 2020</td> <th>  Prob (F-statistic):</th> <td>2.76e-29</td>\n",
              "</tr>\n",
              "<tr>\n",
              "  <th>Time:</th>                 <td>14:56:27</td>     <th>  Log-Likelihood:    </th> <td> -527.35</td>\n",
              "</tr>\n",
              "<tr>\n",
              "  <th>No. Observations:</th>      <td>    50</td>      <th>  AIC:               </th> <td>   1063.</td>\n",
              "</tr>\n",
              "<tr>\n",
              "  <th>Df Residuals:</th>          <td>    46</td>      <th>  BIC:               </th> <td>   1070.</td>\n",
              "</tr>\n",
              "<tr>\n",
              "  <th>Df Model:</th>              <td>     3</td>      <th>                     </th>     <td> </td>   \n",
              "</tr>\n",
              "<tr>\n",
              "  <th>Covariance Type:</th>      <td>nonrobust</td>    <th>                     </th>     <td> </td>   \n",
              "</tr>\n",
              "</table>\n",
              "<table class=\"simpletable\">\n",
              "<tr>\n",
              "    <td></td>       <th>coef</th>     <th>std err</th>      <th>t</th>      <th>P>|t|</th>  <th>[0.025</th>    <th>0.975]</th>  \n",
              "</tr>\n",
              "<tr>\n",
              "  <th>const</th> <td> 1.625e+04</td> <td> 1091.713</td> <td>   14.888</td> <td> 0.000</td> <td> 1.41e+04</td> <td> 1.85e+04</td>\n",
              "</tr>\n",
              "<tr>\n",
              "  <th>x1</th>    <td> 1.625e+04</td> <td> 1091.713</td> <td>   14.888</td> <td> 0.000</td> <td> 1.41e+04</td> <td> 1.85e+04</td>\n",
              "</tr>\n",
              "<tr>\n",
              "  <th>x2</th>    <td> 1.625e+04</td> <td> 1091.713</td> <td>   14.888</td> <td> 0.000</td> <td> 1.41e+04</td> <td> 1.85e+04</td>\n",
              "</tr>\n",
              "<tr>\n",
              "  <th>x3</th>    <td>    0.8530</td> <td>    0.030</td> <td>   28.226</td> <td> 0.000</td> <td>    0.792</td> <td>    0.914</td>\n",
              "</tr>\n",
              "<tr>\n",
              "  <th>x4</th>    <td>   -9.5969</td> <td> 3312.045</td> <td>   -0.003</td> <td> 0.998</td> <td>-6676.398</td> <td> 6657.204</td>\n",
              "</tr>\n",
              "<tr>\n",
              "  <th>x5</th>    <td> 1154.2695</td> <td> 3347.507</td> <td>    0.345</td> <td> 0.732</td> <td>-5583.913</td> <td> 7892.452</td>\n",
              "</tr>\n",
              "</table>\n",
              "<table class=\"simpletable\">\n",
              "<tr>\n",
              "  <th>Omnibus:</th>       <td>13.418</td> <th>  Durbin-Watson:     </th> <td>   1.122</td>\n",
              "</tr>\n",
              "<tr>\n",
              "  <th>Prob(Omnibus):</th> <td> 0.001</td> <th>  Jarque-Bera (JB):  </th> <td>  17.605</td>\n",
              "</tr>\n",
              "<tr>\n",
              "  <th>Skew:</th>          <td>-0.907</td> <th>  Prob(JB):          </th> <td>0.000150</td>\n",
              "</tr>\n",
              "<tr>\n",
              "  <th>Kurtosis:</th>      <td> 5.271</td> <th>  Cond. No.          </th> <td>3.53e+20</td>\n",
              "</tr>\n",
              "</table><br/><br/>Warnings:<br/>[1] Standard Errors assume that the covariance matrix of the errors is correctly specified.<br/>[2] The smallest eigenvalue is  3e-30. This might indicate that there are<br/>strong multicollinearity problems or that the design matrix is singular."
            ],
            "text/plain": [
              "<class 'statsmodels.iolib.summary.Summary'>\n",
              "\"\"\"\n",
              "                            OLS Regression Results                            \n",
              "==============================================================================\n",
              "Dep. Variable:                 Profit   R-squared:                       0.947\n",
              "Model:                            OLS   Adj. R-squared:                  0.943\n",
              "Method:                 Least Squares   F-statistic:                     272.4\n",
              "Date:                Sun, 16 Feb 2020   Prob (F-statistic):           2.76e-29\n",
              "Time:                        14:56:27   Log-Likelihood:                -527.35\n",
              "No. Observations:                  50   AIC:                             1063.\n",
              "Df Residuals:                      46   BIC:                             1070.\n",
              "Df Model:                           3                                         \n",
              "Covariance Type:            nonrobust                                         \n",
              "==============================================================================\n",
              "                 coef    std err          t      P>|t|      [0.025      0.975]\n",
              "------------------------------------------------------------------------------\n",
              "const       1.625e+04   1091.713     14.888      0.000    1.41e+04    1.85e+04\n",
              "x1          1.625e+04   1091.713     14.888      0.000    1.41e+04    1.85e+04\n",
              "x2          1.625e+04   1091.713     14.888      0.000    1.41e+04    1.85e+04\n",
              "x3             0.8530      0.030     28.226      0.000       0.792       0.914\n",
              "x4            -9.5969   3312.045     -0.003      0.998   -6676.398    6657.204\n",
              "x5          1154.2695   3347.507      0.345      0.732   -5583.913    7892.452\n",
              "==============================================================================\n",
              "Omnibus:                       13.418   Durbin-Watson:                   1.122\n",
              "Prob(Omnibus):                  0.001   Jarque-Bera (JB):               17.605\n",
              "Skew:                          -0.907   Prob(JB):                     0.000150\n",
              "Kurtosis:                       5.271   Cond. No.                     3.53e+20\n",
              "==============================================================================\n",
              "\n",
              "Warnings:\n",
              "[1] Standard Errors assume that the covariance matrix of the errors is correctly specified.\n",
              "[2] The smallest eigenvalue is  3e-30. This might indicate that there are\n",
              "strong multicollinearity problems or that the design matrix is singular.\n",
              "\"\"\""
            ]
          },
          "metadata": {
            "tags": []
          },
          "execution_count": 93
        }
      ]
    },
    {
      "cell_type": "code",
      "metadata": {
        "id": "N_FVN-UjDj8b",
        "colab_type": "code",
        "colab": {}
      },
      "source": [
        ""
      ],
      "execution_count": 0,
      "outputs": []
    }
  ]
}